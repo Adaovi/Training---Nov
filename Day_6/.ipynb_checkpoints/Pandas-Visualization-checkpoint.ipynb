{
 "cells": [
  {
   "cell_type": "markdown",
   "id": "be3a5860-9991-4599-8c62-0ea1831d8f51",
   "metadata": {},
   "source": [
    "# Pandas - Data Visualization"
   ]
  },
  {
   "cell_type": "code",
   "execution_count": null,
   "id": "7acffcea-84fc-44e1-a70b-56a6bbc4e249",
   "metadata": {},
   "outputs": [],
   "source": [
    "import pandas as pd\n",
    "import numpy as np\n",
    "\n",
    "data = {\n",
    "    'Date': pd.date_range(start='2023-01-01', periods=10, freq='D'),\n",
    "    'Product_A': np.random.randint(10, 100, size=10),\n",
    "    'Product_B': np.random.randint(20, 80, size=10),\n",
    "    'Product_C': np.random.randint(5, 30, size=10),\n",
    "}\n",
    "\n",
    "df = pd.DataFrame(data)"
   ]
  },
  {
   "cell_type": "code",
   "execution_count": null,
   "id": "5f9c2a0e-5f20-4bf2-a919-6ac2f933ec56",
   "metadata": {},
   "outputs": [],
   "source": [
    "df.head()"
   ]
  },
  {
   "cell_type": "markdown",
   "id": "6980921b-9d2c-4b4c-bf4f-892579cebb05",
   "metadata": {},
   "source": [
    "## 1. Line Chart"
   ]
  },
  {
   "cell_type": "markdown",
   "id": "b415660b-7682-4dc5-95e3-e44870fdd2c0",
   "metadata": {},
   "source": [
    "- **Use Case:** Showing trends or patterns over a continuous interval, especially in time series data.\n",
    "- **Example:** Visualizing stock prices over time, tracking temperature changes throughout the day, or displaying the growth of a variable over a period."
   ]
  },
  {
   "cell_type": "code",
   "execution_count": null,
   "id": "f6862356-3ae9-4a53-aa56-40824fec0a3d",
   "metadata": {},
   "outputs": [],
   "source": [
    "df.plot(x='Date', y='Product_A')"
   ]
  },
  {
   "cell_type": "markdown",
   "id": "5c45188c-5c30-4584-b734-e0daa6ef793f",
   "metadata": {},
   "source": [
    "## 2. Scatter Plot"
   ]
  },
  {
   "cell_type": "markdown",
   "id": "0579e35b-f276-43d5-b838-c0aa187ac664",
   "metadata": {},
   "source": [
    "- **Use Case:** Showing the relationship between two continuous variables and identifying patterns or correlations.\n",
    "- **Example:** Analyzing the correlation between study hours and exam scores, exploring the relationship between temperature and ice cream sales, or identifying outliers in a dataset."
   ]
  },
  {
   "cell_type": "code",
   "execution_count": null,
   "id": "d2ea2c21-4c99-4346-858b-e767bb51431a",
   "metadata": {},
   "outputs": [],
   "source": [
    "df.plot(x='Date', y='Product_A', kind='scatter')"
   ]
  },
  {
   "cell_type": "markdown",
   "id": "e8bbee05-2ec2-4136-96a6-8cec1bc7651f",
   "metadata": {},
   "source": [
    "## 3. Bar Plot"
   ]
  },
  {
   "cell_type": "markdown",
   "id": "11fd91ab-f05e-47ff-8840-100b505cb8bf",
   "metadata": {},
   "source": [
    "- **Use Case:** Comparing values across different categories or showing the distribution of a categorical variable.\n",
    "- **Example:** Comparing sales figures for different products, displaying the distribution of income levels in different regions, or showing the number of students in different classes."
   ]
  },
  {
   "cell_type": "code",
   "execution_count": null,
   "id": "279b9468-2860-4f1e-9da3-61d373662545",
   "metadata": {},
   "outputs": [],
   "source": [
    "df.plot(x='Date', y='Product_A', kind='bar')"
   ]
  },
  {
   "cell_type": "markdown",
   "id": "736a50fe-2a7c-4175-af38-88fa4c8af83a",
   "metadata": {},
   "source": [
    "## 4.Histogram"
   ]
  },
  {
   "cell_type": "markdown",
   "id": "14add60b-27f2-44ae-aa5e-b560bc773261",
   "metadata": {},
   "source": [
    "- **Use Case:** Representing the distribution of a continuous variable and showing the frequency of values within specified bins or ranges.\n",
    "- **Example:** Displaying the distribution of ages in a population, visualizing the distribution of test scores, or examining the frequency of heights in a group."
   ]
  },
  {
   "cell_type": "code",
   "execution_count": null,
   "id": "203487c6-ca34-4f2a-a3bb-b4e0b1700420",
   "metadata": {},
   "outputs": [],
   "source": [
    "df.plot(x='Date', y='Product_A', kind='hist')"
   ]
  },
  {
   "cell_type": "code",
   "execution_count": null,
   "id": "31ff2835-1714-439d-bf16-f0e5a3523d93",
   "metadata": {},
   "outputs": [],
   "source": []
  }
 ],
 "metadata": {
  "kernelspec": {
   "display_name": "Python 3 (ipykernel)",
   "language": "python",
   "name": "python3"
  },
  "language_info": {
   "codemirror_mode": {
    "name": "ipython",
    "version": 3
   },
   "file_extension": ".py",
   "mimetype": "text/x-python",
   "name": "python",
   "nbconvert_exporter": "python",
   "pygments_lexer": "ipython3",
   "version": "3.11.5"
  }
 },
 "nbformat": 4,
 "nbformat_minor": 5
}
