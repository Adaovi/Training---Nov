{
 "cells": [
  {
   "cell_type": "markdown",
   "id": "5b7f7513-f18c-468f-a5a3-f5395d3dcce3",
   "metadata": {},
   "source": [
    "# Data Types / Variable Types"
   ]
  },
  {
   "cell_type": "markdown",
   "id": "8853b219-881d-48ac-8d9c-92457d030c5d",
   "metadata": {},
   "source": [
    "## 1. Numerical Data:\n",
    "\n",
    "- **i) Continuous:** These are numerical values that can take any real number within a certain range. Examples include height, weight, temperature, etc.\n",
    "- **ii) Discrete:** These are numerical values that are counted in whole numbers and cannot take on every possible value within a range. Examples include the number of cars in a parking lot, the count of customer purchases, etc."
   ]
  },
  {
   "cell_type": "code",
   "execution_count": 1,
   "id": "e8bd912a-7c41-4c7d-ad63-9a5e55dfc807",
   "metadata": {},
   "outputs": [],
   "source": [
    "import pandas as pd"
   ]
  },
  {
   "cell_type": "code",
   "execution_count": 2,
   "id": "e3e3d58d-1b4f-4aad-83cd-dbfffba6c4b5",
   "metadata": {},
   "outputs": [],
   "source": [
    "continuous_data = pd.DataFrame({\n",
    "    'Weight': [65.2, 70.5, 68.8, 72.1, 67.4],\n",
    "    'Temperature': [98.6, 98.2, 99.0, 98.8, 98.5]\n",
    "})\n",
    "\n",
    "discrete_data = pd.DataFrame({\n",
    "    'Number_of_Cars': [2, 1, 3, 2, 4],\n",
    "    'Items_Purchased': [5, 8, 6, 7, 4]\n",
    "})"
   ]
  },
  {
   "cell_type": "code",
   "execution_count": 3,
   "id": "cdcc54eb-7693-4273-a711-da9984256649",
   "metadata": {},
   "outputs": [
    {
     "data": {
      "text/html": [
       "<div>\n",
       "<style scoped>\n",
       "    .dataframe tbody tr th:only-of-type {\n",
       "        vertical-align: middle;\n",
       "    }\n",
       "\n",
       "    .dataframe tbody tr th {\n",
       "        vertical-align: top;\n",
       "    }\n",
       "\n",
       "    .dataframe thead th {\n",
       "        text-align: right;\n",
       "    }\n",
       "</style>\n",
       "<table border=\"1\" class=\"dataframe\">\n",
       "  <thead>\n",
       "    <tr style=\"text-align: right;\">\n",
       "      <th></th>\n",
       "      <th>Weight</th>\n",
       "      <th>Temperature</th>\n",
       "    </tr>\n",
       "  </thead>\n",
       "  <tbody>\n",
       "    <tr>\n",
       "      <th>0</th>\n",
       "      <td>65.2</td>\n",
       "      <td>98.6</td>\n",
       "    </tr>\n",
       "    <tr>\n",
       "      <th>1</th>\n",
       "      <td>70.5</td>\n",
       "      <td>98.2</td>\n",
       "    </tr>\n",
       "    <tr>\n",
       "      <th>2</th>\n",
       "      <td>68.8</td>\n",
       "      <td>99.0</td>\n",
       "    </tr>\n",
       "    <tr>\n",
       "      <th>3</th>\n",
       "      <td>72.1</td>\n",
       "      <td>98.8</td>\n",
       "    </tr>\n",
       "    <tr>\n",
       "      <th>4</th>\n",
       "      <td>67.4</td>\n",
       "      <td>98.5</td>\n",
       "    </tr>\n",
       "  </tbody>\n",
       "</table>\n",
       "</div>"
      ],
      "text/plain": [
       "   Weight  Temperature\n",
       "0    65.2         98.6\n",
       "1    70.5         98.2\n",
       "2    68.8         99.0\n",
       "3    72.1         98.8\n",
       "4    67.4         98.5"
      ]
     },
     "execution_count": 3,
     "metadata": {},
     "output_type": "execute_result"
    }
   ],
   "source": [
    "continuous_data"
   ]
  },
  {
   "cell_type": "code",
   "execution_count": 4,
   "id": "1a0633a3-da1f-460b-8225-408fadc60408",
   "metadata": {},
   "outputs": [
    {
     "data": {
      "text/html": [
       "<div>\n",
       "<style scoped>\n",
       "    .dataframe tbody tr th:only-of-type {\n",
       "        vertical-align: middle;\n",
       "    }\n",
       "\n",
       "    .dataframe tbody tr th {\n",
       "        vertical-align: top;\n",
       "    }\n",
       "\n",
       "    .dataframe thead th {\n",
       "        text-align: right;\n",
       "    }\n",
       "</style>\n",
       "<table border=\"1\" class=\"dataframe\">\n",
       "  <thead>\n",
       "    <tr style=\"text-align: right;\">\n",
       "      <th></th>\n",
       "      <th>Number_of_Cars</th>\n",
       "      <th>Items_Purchased</th>\n",
       "    </tr>\n",
       "  </thead>\n",
       "  <tbody>\n",
       "    <tr>\n",
       "      <th>0</th>\n",
       "      <td>2</td>\n",
       "      <td>5</td>\n",
       "    </tr>\n",
       "    <tr>\n",
       "      <th>1</th>\n",
       "      <td>1</td>\n",
       "      <td>8</td>\n",
       "    </tr>\n",
       "    <tr>\n",
       "      <th>2</th>\n",
       "      <td>3</td>\n",
       "      <td>6</td>\n",
       "    </tr>\n",
       "    <tr>\n",
       "      <th>3</th>\n",
       "      <td>2</td>\n",
       "      <td>7</td>\n",
       "    </tr>\n",
       "    <tr>\n",
       "      <th>4</th>\n",
       "      <td>4</td>\n",
       "      <td>4</td>\n",
       "    </tr>\n",
       "  </tbody>\n",
       "</table>\n",
       "</div>"
      ],
      "text/plain": [
       "   Number_of_Cars  Items_Purchased\n",
       "0               2                5\n",
       "1               1                8\n",
       "2               3                6\n",
       "3               2                7\n",
       "4               4                4"
      ]
     },
     "execution_count": 4,
     "metadata": {},
     "output_type": "execute_result"
    }
   ],
   "source": [
    "discrete_data"
   ]
  },
  {
   "cell_type": "markdown",
   "id": "2a41f791-1678-484b-a616-22b2a5266ffc",
   "metadata": {},
   "source": [
    "## 2. Categorical Data:\n",
    "\n",
    "- **Nominal:** Categories with no inherent order or ranking. Examples include colors, types of fruits, etc.\n",
    "- **Ordinal:** Categories with a meaningful order or ranking. However, the differences between the categories are not well-defined. Examples include education levels (e.g., high school, college, graduate), customer satisfaction ratings (e.g., low, medium, high)."
   ]
  },
  {
   "cell_type": "code",
   "execution_count": 5,
   "id": "e5be0030-e93b-4d71-ac46-bba3e259fba7",
   "metadata": {},
   "outputs": [],
   "source": [
    "nominal_data = pd.DataFrame({\n",
    "    'Color': ['Red', 'Blue', 'Green', 'Yellow', 'Red']\n",
    "})\n",
    "\n",
    "ordinal_data = pd.DataFrame({\n",
    "    'Education_Level': ['High School', 'College', 'Graduate', 'High School', 'College'],\n",
    "    'Customer_Satisfaction': ['Low', 'Medium', 'High', 'Medium', 'Low']\n",
    "})"
   ]
  },
  {
   "cell_type": "code",
   "execution_count": 8,
   "id": "40297bff-b94f-47c7-8fd8-b289981acd5b",
   "metadata": {},
   "outputs": [
    {
     "data": {
      "text/plain": [
       "(    Color\n",
       " 0     Red\n",
       " 1    Blue\n",
       " 2   Green\n",
       " 3  Yellow\n",
       " 4     Red,\n",
       "   Education_Level Customer_Satisfaction\n",
       " 0     High School                   Low\n",
       " 1         College                Medium\n",
       " 2        Graduate                  High\n",
       " 3     High School                Medium\n",
       " 4         College                   Low)"
      ]
     },
     "execution_count": 8,
     "metadata": {},
     "output_type": "execute_result"
    }
   ],
   "source": [
    "nominal_data, ordinal_data"
   ]
  },
  {
   "cell_type": "markdown",
   "id": "7ac67751-9c37-4a0a-b6d9-502129cfa43e",
   "metadata": {},
   "source": [
    "## 3. Time Series \n",
    "- Data collected over time, where the order of observations is crucial. Examples include stock prices, weather data, and sensor readings."
   ]
  },
  {
   "cell_type": "code",
   "execution_count": 9,
   "id": "981f4c19-2cca-4157-9706-ab0e928f99ab",
   "metadata": {},
   "outputs": [
    {
     "data": {
      "text/html": [
       "<div>\n",
       "<style scoped>\n",
       "    .dataframe tbody tr th:only-of-type {\n",
       "        vertical-align: middle;\n",
       "    }\n",
       "\n",
       "    .dataframe tbody tr th {\n",
       "        vertical-align: top;\n",
       "    }\n",
       "\n",
       "    .dataframe thead th {\n",
       "        text-align: right;\n",
       "    }\n",
       "</style>\n",
       "<table border=\"1\" class=\"dataframe\">\n",
       "  <thead>\n",
       "    <tr style=\"text-align: right;\">\n",
       "      <th></th>\n",
       "      <th>date</th>\n",
       "      <th>temperature</th>\n",
       "    </tr>\n",
       "  </thead>\n",
       "  <tbody>\n",
       "    <tr>\n",
       "      <th>0</th>\n",
       "      <td>2023-01-01</td>\n",
       "      <td>32.5</td>\n",
       "    </tr>\n",
       "    <tr>\n",
       "      <th>1</th>\n",
       "      <td>2023-01-02</td>\n",
       "      <td>34.2</td>\n",
       "    </tr>\n",
       "    <tr>\n",
       "      <th>2</th>\n",
       "      <td>2023-01-03</td>\n",
       "      <td>30.8</td>\n",
       "    </tr>\n",
       "    <tr>\n",
       "      <th>3</th>\n",
       "      <td>2023-01-04</td>\n",
       "      <td>33.5</td>\n",
       "    </tr>\n",
       "    <tr>\n",
       "      <th>4</th>\n",
       "      <td>2023-01-05</td>\n",
       "      <td>31.7</td>\n",
       "    </tr>\n",
       "  </tbody>\n",
       "</table>\n",
       "</div>"
      ],
      "text/plain": [
       "        date  temperature\n",
       "0 2023-01-01         32.5\n",
       "1 2023-01-02         34.2\n",
       "2 2023-01-03         30.8\n",
       "3 2023-01-04         33.5\n",
       "4 2023-01-05         31.7"
      ]
     },
     "execution_count": 9,
     "metadata": {},
     "output_type": "execute_result"
    }
   ],
   "source": [
    "date_rng = pd.date_range(start='2023-01-01', end='2023-01-05', freq='D')\n",
    "\n",
    "time_series_data = pd.DataFrame(date_rng, columns=['date'])\n",
    "time_series_data['temperature'] = [32.5, 34.2, 30.8, 33.5, 31.7]\n",
    "\n",
    "time_series_data"
   ]
  },
  {
   "cell_type": "markdown",
   "id": "17a44cd6-999c-426e-89fc-c1ead8f4c17a",
   "metadata": {},
   "source": [
    "## Other Types of Data\n",
    "- **Text**\n",
    "- **Audio**\n",
    "- **Image**\n",
    "- **Video**"
   ]
  },
  {
   "cell_type": "code",
   "execution_count": null,
   "id": "c1d02699-9b5f-40a6-a52a-a6f8a9be1db3",
   "metadata": {},
   "outputs": [],
   "source": []
  }
 ],
 "metadata": {
  "kernelspec": {
   "display_name": "Python 3 (ipykernel)",
   "language": "python",
   "name": "python3"
  },
  "language_info": {
   "codemirror_mode": {
    "name": "ipython",
    "version": 3
   },
   "file_extension": ".py",
   "mimetype": "text/x-python",
   "name": "python",
   "nbconvert_exporter": "python",
   "pygments_lexer": "ipython3",
   "version": "3.11.5"
  }
 },
 "nbformat": 4,
 "nbformat_minor": 5
}
