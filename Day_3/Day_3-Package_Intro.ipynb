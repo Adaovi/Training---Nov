{
 "cells": [
  {
   "cell_type": "markdown",
   "id": "0cc25c96-f772-4afd-9541-f598e0c88c31",
   "metadata": {},
   "source": [
    "## Packages, Libraries, Frameworks"
   ]
  },
  {
   "cell_type": "code",
   "execution_count": null,
   "id": "d3d639df-3882-479f-a35e-feb0ae326c2f",
   "metadata": {},
   "outputs": [],
   "source": [
    "Library - collection of functions/modules\n",
    "Package - collection of functions/modules in standard way\n",
    "        - collection of libraries\n",
    "        - __init__.py\n",
    "\n",
    "Frameworks - collection of libraries, function, packages in a standard way (Django/Flask - web framework)\n"
   ]
  },
  {
   "cell_type": "markdown",
   "id": "0cb42a57-9ff5-470b-a901-240eec8f9ce2",
   "metadata": {},
   "source": [
    "## Pip"
   ]
  },
  {
   "cell_type": "code",
   "execution_count": null,
   "id": "7b36948c-6215-464c-965e-9466f71845dd",
   "metadata": {},
   "outputs": [],
   "source": [
    "package manager in python\n",
    "downloads the specific package and you can use it in your code\n",
    "\n",
    "pip install some-package-name"
   ]
  },
  {
   "cell_type": "markdown",
   "id": "e6de7ef3-a5e6-4903-8c03-af984f66da48",
   "metadata": {},
   "source": [
    "## Pandas"
   ]
  },
  {
   "cell_type": "code",
   "execution_count": null,
   "id": "a8c50e95-4855-45bd-b88b-5aef44db8752",
   "metadata": {},
   "outputs": [],
   "source": [
    "- Data analysis/manipulation\n",
    "- read/write\n",
    "- missing data analysis\n",
    "- minimal charts\n",
    "- Dataframe\n",
    "- Series"
   ]
  },
  {
   "cell_type": "code",
   "execution_count": 9,
   "id": "5e91188b-d19c-49c8-aff2-2c9bc74b7061",
   "metadata": {},
   "outputs": [
    {
     "name": "stdout",
     "output_type": "stream",
     "text": [
      "Requirement already satisfied: pandas in /Library/Frameworks/Python.framework/Versions/3.11/lib/python3.11/site-packages (1.5.3)\n",
      "Requirement already satisfied: python-dateutil>=2.8.1 in /Library/Frameworks/Python.framework/Versions/3.11/lib/python3.11/site-packages (from pandas) (2.8.2)\n",
      "Requirement already satisfied: pytz>=2020.1 in /Library/Frameworks/Python.framework/Versions/3.11/lib/python3.11/site-packages (from pandas) (2023.3.post1)\n",
      "Requirement already satisfied: numpy>=1.21.0 in /Library/Frameworks/Python.framework/Versions/3.11/lib/python3.11/site-packages (from pandas) (1.24.2)\n",
      "Requirement already satisfied: six>=1.5 in /Library/Frameworks/Python.framework/Versions/3.11/lib/python3.11/site-packages (from python-dateutil>=2.8.1->pandas) (1.16.0)\n"
     ]
    }
   ],
   "source": [
    "!pip install pandas"
   ]
  },
  {
   "cell_type": "markdown",
   "id": "8dec38c6-052a-4302-836c-c1cba584927c",
   "metadata": {},
   "source": [
    "## Numpy"
   ]
  },
  {
   "cell_type": "code",
   "execution_count": null,
   "id": "dc29f17c-ecb9-4b45-b3a1-ce9ba2fd85ff",
   "metadata": {},
   "outputs": [],
   "source": [
    "- advanced mathematical operation/scientific operations\n",
    "- Numpy is the base for pandas\n",
    "- Numpy array\n",
    "- Numerical Python"
   ]
  },
  {
   "cell_type": "markdown",
   "id": "97f0d34e-4897-47ea-b3b2-138b7046f4a7",
   "metadata": {},
   "source": [
    "## Matplotlib and Seaborn, Plotly"
   ]
  },
  {
   "cell_type": "code",
   "execution_count": null,
   "id": "68317484-be42-4554-adda-b9c7875e75a4",
   "metadata": {},
   "outputs": [],
   "source": [
    "- Data visualization\n",
    "- Plots graphs, charts etc\n",
    "- Pictorical representation of data\n",
    "- EDA (Exploratory Data Analysis)\n"
   ]
  },
  {
   "cell_type": "markdown",
   "id": "88b0a31c-3324-4056-bdd9-891307d7bdea",
   "metadata": {},
   "source": [
    "## Scikit Learn"
   ]
  },
  {
   "cell_type": "code",
   "execution_count": null,
   "id": "d247891f-2b13-4021-96a4-a705e1315a18",
   "metadata": {},
   "outputs": [],
   "source": [
    "- Machine Learning"
   ]
  },
  {
   "cell_type": "markdown",
   "id": "fe12e67e-7daa-4396-a5f0-44d491b928aa",
   "metadata": {},
   "source": [
    "## Tensorflow"
   ]
  },
  {
   "cell_type": "code",
   "execution_count": null,
   "id": "33e50185-4fea-418e-8cde-f92dc36bfae1",
   "metadata": {},
   "outputs": [],
   "source": [
    "- Created by Google\n",
    "- It is a framework\n",
    "- Deep Learning"
   ]
  },
  {
   "cell_type": "markdown",
   "id": "89be8df1-3a46-40c8-b51e-5ba2e4711705",
   "metadata": {},
   "source": [
    "## Pytorch"
   ]
  },
  {
   "cell_type": "code",
   "execution_count": null,
   "id": "ad44d232-c643-4d78-bac2-b097658c0943",
   "metadata": {},
   "outputs": [],
   "source": [
    "- Deep Learning\n",
    "- Created by Facebook\n",
    "- Tesla (self driving)"
   ]
  },
  {
   "cell_type": "markdown",
   "id": "1d29b34a-7822-47e9-9e03-8b93d29838ae",
   "metadata": {},
   "source": [
    "## NLTK"
   ]
  },
  {
   "cell_type": "code",
   "execution_count": null,
   "id": "0ca799d4-26bc-4d90-a7a4-5cc4f67d3f57",
   "metadata": {},
   "outputs": [],
   "source": [
    "- Natural Language Processing\n",
    "- Text data (English)\n",
    "- Process the text "
   ]
  }
 ],
 "metadata": {
  "kernelspec": {
   "display_name": "Python 3 (ipykernel)",
   "language": "python",
   "name": "python3"
  },
  "language_info": {
   "codemirror_mode": {
    "name": "ipython",
    "version": 3
   },
   "file_extension": ".py",
   "mimetype": "text/x-python",
   "name": "python",
   "nbconvert_exporter": "python",
   "pygments_lexer": "ipython3",
   "version": "3.11.5"
  }
 },
 "nbformat": 4,
 "nbformat_minor": 5
}
